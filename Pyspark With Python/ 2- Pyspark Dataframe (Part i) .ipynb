{
 "cells": [
  {
   "cell_type": "markdown",
   "id": "0e75c005",
   "metadata": {},
   "source": [
    "# 2) Pyspark Dataframe (part i)\n",
    "\n",
    "In this section, we will Cover\n",
    "\n",
    " * PySpark Dataframe\n",
    " * Reading The Dataset\n",
    "  * Checking the Datatypes of the Column(Schema)\n",
    "  * Selecting Columns And Indexing\n",
    "  * Check Describe option similar to Pandas\n",
    "  * Adding Columns\n",
    "   * Dropping columns\n",
    "  * Renaming Columns"
   ]
  },
  {
   "cell_type": "code",
   "execution_count": 1,
   "id": "18e49db0",
   "metadata": {},
   "outputs": [],
   "source": [
    "from pyspark.sql import SparkSession"
   ]
  },
  {
   "cell_type": "code",
   "execution_count": 2,
   "id": "ae44b732",
   "metadata": {},
   "outputs": [],
   "source": [
    "spark = SparkSession.builder.appName(\"Dataframe\").getOrCreate()"
   ]
  },
  {
   "cell_type": "code",
   "execution_count": 3,
   "id": "beb31db5",
   "metadata": {},
   "outputs": [
    {
     "data": {
      "text/html": [
       "\n",
       "            <div>\n",
       "                <p><b>SparkSession - in-memory</b></p>\n",
       "                \n",
       "        <div>\n",
       "            <p><b>SparkContext</b></p>\n",
       "\n",
       "            <p><a href=\"http://DESKTOP-4IJ1NJJ:4041\">Spark UI</a></p>\n",
       "\n",
       "            <dl>\n",
       "              <dt>Version</dt>\n",
       "                <dd><code>v3.5.1</code></dd>\n",
       "              <dt>Master</dt>\n",
       "                <dd><code>local[*]</code></dd>\n",
       "              <dt>AppName</dt>\n",
       "                <dd><code>Dataframe</code></dd>\n",
       "            </dl>\n",
       "        </div>\n",
       "        \n",
       "            </div>\n",
       "        "
      ],
      "text/plain": [
       "<pyspark.sql.session.SparkSession at 0x252bafdf130>"
      ]
     },
     "execution_count": 3,
     "metadata": {},
     "output_type": "execute_result"
    }
   ],
   "source": [
    "spark"
   ]
  },
  {
   "cell_type": "code",
   "execution_count": 4,
   "id": "cf52e95e",
   "metadata": {},
   "outputs": [
    {
     "data": {
      "text/plain": [
       "DataFrame[Name: string, age: string, Experience: string]"
      ]
     },
     "execution_count": 4,
     "metadata": {},
     "output_type": "execute_result"
    }
   ],
   "source": [
    "# reading the dataset : conside my 1st as header\n",
    "spark.read.option('header', 'true').csv(\"test1.csv\")"
   ]
  },
  {
   "cell_type": "code",
   "execution_count": 5,
   "id": "7dbe77ff",
   "metadata": {
    "scrolled": true
   },
   "outputs": [
    {
     "name": "stdout",
     "output_type": "stream",
     "text": [
      "+------------+---+----------+\n",
      "|        Name|age|Experience|\n",
      "+------------+---+----------+\n",
      "|      Younes| 31|        10|\n",
      "|      Mourad| 30|         8|\n",
      "|Fatima Zahra| 29|         4|\n",
      "|     M'hamed| 24|         3|\n",
      "|       Fdila| 21|         1|\n",
      "|       Hamid| 23|         2|\n",
      "+------------+---+----------+\n",
      "\n"
     ]
    }
   ],
   "source": [
    "df_pyspark = spark.read.option('header', 'true').csv(\"test1.csv\", inferSchema= True)\n",
    "df_pyspark.show()"
   ]
  },
  {
   "cell_type": "markdown",
   "id": "cefb8458",
   "metadata": {},
   "source": [
    "`inferSchema= True` will import the columns with their true data types. Because by default, all the columns are important as string"
   ]
  },
  {
   "cell_type": "code",
   "execution_count": 6,
   "id": "cc06e495",
   "metadata": {},
   "outputs": [
    {
     "name": "stdout",
     "output_type": "stream",
     "text": [
      "root\n",
      " |-- Name: string (nullable = true)\n",
      " |-- age: integer (nullable = true)\n",
      " |-- Experience: integer (nullable = true)\n",
      "\n"
     ]
    }
   ],
   "source": [
    "# check the schema\n",
    "df_pyspark.printSchema()"
   ]
  },
  {
   "cell_type": "code",
   "execution_count": 7,
   "id": "8286e770",
   "metadata": {},
   "outputs": [
    {
     "name": "stdout",
     "output_type": "stream",
     "text": [
      "+------------+---+----------+\n",
      "|        Name|age|Experience|\n",
      "+------------+---+----------+\n",
      "|      Younes| 31|        10|\n",
      "|      Mourad| 30|         8|\n",
      "|Fatima Zahra| 29|         4|\n",
      "|     M'hamed| 24|         3|\n",
      "|       Fdila| 21|         1|\n",
      "|       Hamid| 23|         2|\n",
      "+------------+---+----------+\n",
      "\n"
     ]
    }
   ],
   "source": [
    "df_pyspark = spark.read.csv(\"test1.csv\", header = True, inferSchema=True)\n",
    "df_pyspark.show()"
   ]
  },
  {
   "cell_type": "code",
   "execution_count": 8,
   "id": "dd179d1d",
   "metadata": {},
   "outputs": [
    {
     "name": "stdout",
     "output_type": "stream",
     "text": [
      "root\n",
      " |-- Name: string (nullable = true)\n",
      " |-- age: integer (nullable = true)\n",
      " |-- Experience: integer (nullable = true)\n",
      "\n"
     ]
    }
   ],
   "source": [
    "# checking the data types of the columns\n",
    "df_pyspark.printSchema()"
   ]
  },
  {
   "cell_type": "code",
   "execution_count": 9,
   "id": "1c4a5424",
   "metadata": {},
   "outputs": [
    {
     "data": {
      "text/plain": [
       "pyspark.sql.dataframe.DataFrame"
      ]
     },
     "execution_count": 9,
     "metadata": {},
     "output_type": "execute_result"
    }
   ],
   "source": [
    "type(df_pyspark)"
   ]
  },
  {
   "cell_type": "code",
   "execution_count": 10,
   "id": "bbc303b4",
   "metadata": {},
   "outputs": [
    {
     "data": {
      "text/plain": [
       "['Name', 'age', 'Experience']"
      ]
     },
     "execution_count": 10,
     "metadata": {},
     "output_type": "execute_result"
    }
   ],
   "source": [
    "# show column names\n",
    "df_pyspark.columns"
   ]
  },
  {
   "cell_type": "code",
   "execution_count": 11,
   "id": "52e06585",
   "metadata": {},
   "outputs": [
    {
     "data": {
      "text/plain": [
       "[Row(Name='Younes', age=31, Experience=10),\n",
       " Row(Name='Mourad', age=30, Experience=8),\n",
       " Row(Name='Fatima Zahra', age=29, Experience=4)]"
      ]
     },
     "execution_count": 11,
     "metadata": {},
     "output_type": "execute_result"
    }
   ],
   "source": [
    "# getting the first 3 rows\n",
    "df_pyspark.head(3)\n"
   ]
  },
  {
   "cell_type": "code",
   "execution_count": 12,
   "id": "72b56b24",
   "metadata": {},
   "outputs": [
    {
     "name": "stdout",
     "output_type": "stream",
     "text": [
      "<class 'list'>\n"
     ]
    }
   ],
   "source": [
    "print(type(df_pyspark.head(3)))"
   ]
  },
  {
   "cell_type": "code",
   "execution_count": 13,
   "id": "32cac36b",
   "metadata": {},
   "outputs": [
    {
     "name": "stdout",
     "output_type": "stream",
     "text": [
      "+------------+---+----------+\n",
      "|        Name|age|Experience|\n",
      "+------------+---+----------+\n",
      "|      Younes| 31|        10|\n",
      "|      Mourad| 30|         8|\n",
      "|Fatima Zahra| 29|         4|\n",
      "|     M'hamed| 24|         3|\n",
      "|       Fdila| 21|         1|\n",
      "|       Hamid| 23|         2|\n",
      "+------------+---+----------+\n",
      "\n"
     ]
    }
   ],
   "source": [
    "df_pyspark.show()"
   ]
  },
  {
   "cell_type": "code",
   "execution_count": 14,
   "id": "74a9a028",
   "metadata": {},
   "outputs": [
    {
     "data": {
      "text/plain": [
       "DataFrame[Name: string]"
      ]
     },
     "execution_count": 14,
     "metadata": {},
     "output_type": "execute_result"
    }
   ],
   "source": [
    "# selecting a column\n",
    "df_pyspark.select(\"Name\")"
   ]
  },
  {
   "cell_type": "code",
   "execution_count": 15,
   "id": "8b152e49",
   "metadata": {},
   "outputs": [
    {
     "name": "stdout",
     "output_type": "stream",
     "text": [
      "+------------+\n",
      "|        Name|\n",
      "+------------+\n",
      "|      Younes|\n",
      "|      Mourad|\n",
      "|Fatima Zahra|\n",
      "|     M'hamed|\n",
      "|       Fdila|\n",
      "|       Hamid|\n",
      "+------------+\n",
      "\n"
     ]
    }
   ],
   "source": [
    "df_pyspark.select(\"Name\").show()"
   ]
  },
  {
   "cell_type": "code",
   "execution_count": 16,
   "id": "be39c316",
   "metadata": {},
   "outputs": [
    {
     "data": {
      "text/plain": [
       "pyspark.sql.dataframe.DataFrame"
      ]
     },
     "execution_count": 16,
     "metadata": {},
     "output_type": "execute_result"
    }
   ],
   "source": [
    "# the type of the selected column\n",
    "type(df_pyspark.select(\"Name\"))"
   ]
  },
  {
   "cell_type": "code",
   "execution_count": 17,
   "id": "891cb453",
   "metadata": {},
   "outputs": [
    {
     "name": "stdout",
     "output_type": "stream",
     "text": [
      "+------------+----------+\n",
      "|        Name|experience|\n",
      "+------------+----------+\n",
      "|      Younes|        10|\n",
      "|      Mourad|         8|\n",
      "|Fatima Zahra|         4|\n",
      "|     M'hamed|         3|\n",
      "|       Fdila|         1|\n",
      "|       Hamid|         2|\n",
      "+------------+----------+\n",
      "\n"
     ]
    }
   ],
   "source": [
    "# select multiple columns\n",
    "df_pyspark.select([\"Name\", \"experience\"]).show()"
   ]
  },
  {
   "cell_type": "code",
   "execution_count": 18,
   "id": "7f7b24c6",
   "metadata": {},
   "outputs": [
    {
     "data": {
      "text/plain": [
       "[('Name', 'string'), ('age', 'int'), ('Experience', 'int')]"
      ]
     },
     "execution_count": 18,
     "metadata": {},
     "output_type": "execute_result"
    }
   ],
   "source": [
    "# Checking the datatypes\n",
    "df_pyspark.dtypes"
   ]
  },
  {
   "cell_type": "code",
   "execution_count": 19,
   "id": "041ec6f9",
   "metadata": {},
   "outputs": [
    {
     "name": "stdout",
     "output_type": "stream",
     "text": [
      "+-------+------------------+-----------------+\n",
      "|summary|               age|       experience|\n",
      "+-------+------------------+-----------------+\n",
      "|  count|                 6|                6|\n",
      "|   mean|26.333333333333332|4.666666666666667|\n",
      "| stddev| 4.179314138308661|3.559026084010437|\n",
      "|    min|                21|                1|\n",
      "|    max|                31|               10|\n",
      "+-------+------------------+-----------------+\n",
      "\n"
     ]
    }
   ],
   "source": [
    "# describing\n",
    "df_pyspark[\"age\", \"experience\"].describe().show()"
   ]
  },
  {
   "cell_type": "code",
   "execution_count": 20,
   "id": "14ab28bc",
   "metadata": {},
   "outputs": [
    {
     "data": {
      "text/plain": [
       "DataFrame[Name: string, age: int, Experience: int, Experience After 3 years: int]"
      ]
     },
     "execution_count": 20,
     "metadata": {},
     "output_type": "execute_result"
    }
   ],
   "source": [
    "# Adding columns io the data frame\n",
    "df_pyspark = df_pyspark.withColumn(\"Experience After 3 years\", df_pyspark[\"experience\"]+3)\n",
    "df_pyspark"
   ]
  },
  {
   "cell_type": "code",
   "execution_count": 21,
   "id": "d1d3d548",
   "metadata": {},
   "outputs": [
    {
     "name": "stdout",
     "output_type": "stream",
     "text": [
      "+------------+---+----------+------------------------+\n",
      "|        Name|age|Experience|Experience After 3 years|\n",
      "+------------+---+----------+------------------------+\n",
      "|      Younes| 31|        10|                      13|\n",
      "|      Mourad| 30|         8|                      11|\n",
      "|Fatima Zahra| 29|         4|                       7|\n",
      "|     M'hamed| 24|         3|                       6|\n",
      "|       Fdila| 21|         1|                       4|\n",
      "|       Hamid| 23|         2|                       5|\n",
      "+------------+---+----------+------------------------+\n",
      "\n"
     ]
    }
   ],
   "source": [
    "df_pyspark.show()"
   ]
  },
  {
   "cell_type": "code",
   "execution_count": 22,
   "id": "2fac1895",
   "metadata": {},
   "outputs": [
    {
     "data": {
      "text/plain": [
       "DataFrame[Name: string, age: int, Experience: int]"
      ]
     },
     "execution_count": 22,
     "metadata": {},
     "output_type": "execute_result"
    }
   ],
   "source": [
    "# Dropping columns\n",
    "df_pyspark = df_pyspark.drop(\"Experience After 3 years\")\n",
    "df_pyspark"
   ]
  },
  {
   "cell_type": "code",
   "execution_count": 23,
   "id": "e96f1426",
   "metadata": {},
   "outputs": [
    {
     "name": "stdout",
     "output_type": "stream",
     "text": [
      "+------------+---+----------+\n",
      "|        Name|age|Experience|\n",
      "+------------+---+----------+\n",
      "|      Younes| 31|        10|\n",
      "|      Mourad| 30|         8|\n",
      "|Fatima Zahra| 29|         4|\n",
      "|     M'hamed| 24|         3|\n",
      "|       Fdila| 21|         1|\n",
      "|       Hamid| 23|         2|\n",
      "+------------+---+----------+\n",
      "\n"
     ]
    }
   ],
   "source": [
    "df_pyspark.show()"
   ]
  },
  {
   "cell_type": "code",
   "execution_count": 25,
   "id": "3b98bae0",
   "metadata": {},
   "outputs": [
    {
     "name": "stdout",
     "output_type": "stream",
     "text": [
      "+------------+---+----------+\n",
      "|    New Name|age|Experience|\n",
      "+------------+---+----------+\n",
      "|      Younes| 31|        10|\n",
      "|      Mourad| 30|         8|\n",
      "|Fatima Zahra| 29|         4|\n",
      "|     M'hamed| 24|         3|\n",
      "|       Fdila| 21|         1|\n",
      "|       Hamid| 23|         2|\n",
      "+------------+---+----------+\n",
      "\n"
     ]
    }
   ],
   "source": [
    "# Renaming a column\n",
    "df_pyspark.withColumnRenamed(\"Name\", \"New Name\").show()"
   ]
  },
  {
   "cell_type": "code",
   "execution_count": null,
   "id": "20bf2f78",
   "metadata": {},
   "outputs": [],
   "source": []
  }
 ],
 "metadata": {
  "kernelspec": {
   "display_name": "Python 3 (ipykernel)",
   "language": "python",
   "name": "python3"
  },
  "language_info": {
   "codemirror_mode": {
    "name": "ipython",
    "version": 3
   },
   "file_extension": ".py",
   "mimetype": "text/x-python",
   "name": "python",
   "nbconvert_exporter": "python",
   "pygments_lexer": "ipython3",
   "version": "3.10.10"
  }
 },
 "nbformat": 4,
 "nbformat_minor": 5
}
